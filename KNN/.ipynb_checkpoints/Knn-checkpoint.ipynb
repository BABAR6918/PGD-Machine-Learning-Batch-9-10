{
 "cells": [
  {
   "cell_type": "code",
   "execution_count": null,
   "id": "f6c0cc1d-af1e-420e-8ebd-e59dea9c855a",
   "metadata": {},
   "outputs": [],
   "source": []
  }
 ],
 "metadata": {
  "kernelspec": {
   "display_name": "",
   "name": ""
  },
  "language_info": {
   "name": ""
  }
 },
 "nbformat": 4,
 "nbformat_minor": 5
}
